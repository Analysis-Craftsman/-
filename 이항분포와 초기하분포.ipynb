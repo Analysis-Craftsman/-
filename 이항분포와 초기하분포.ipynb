{
 "cells": [
  {
   "cell_type": "code",
   "execution_count": 1,
   "metadata": {},
   "outputs": [],
   "source": [
    "import math\n",
    "\n",
    "def cf( first_num, second_num ) :\n",
    "    return math.factorial(first_num) / (math.factorial(second_num) * math.factorial(first_num-second_num) )"
   ]
  },
  {
   "cell_type": "markdown",
   "metadata": {},
   "source": [
    "## 이항분포\n",
    "\n",
    "<blockquote> 복원추출을 사용한, 확률 기법을 이항 분포라고 한다. </blockquote> "
   ]
  },
  {
   "cell_type": "code",
   "execution_count": 4,
   "metadata": {},
   "outputs": [
    {
     "name": "stdout",
     "output_type": "stream",
     "text": [
      "전환 확률 : 28.8 %\n"
     ]
    }
   ],
   "source": [
    "# 오프라인 상점 방문 고객 10명 중, 구매자 6명 비 구매자 4명\n",
    "# 오프라인 상점에 방문한 임의 고객 3명을 선정 했을 때, 이 중에서 전환 고객 2명일 확률은?\n",
    "# 전환 확률을 분석할 때, 기존의 임의 선정한 3명의 고객 모수를 다시 활용\n",
    "\n",
    "all_clients = 10\n",
    "purchase = 6\n",
    "non_purchase = 4\n",
    "choice_clients = 3\n",
    "conversion_clients = 2\n",
    "\n",
    "p = cf( choice_clients, conversion_clients ) * pow( non_purchase/all_clients, 2 ) * pow( purchase/all_clients, 1 )\n",
    "\n",
    "print( \"전환 확률 :\", round( p*100, 2 ), \"%\" )"
   ]
  },
  {
   "cell_type": "markdown",
   "metadata": {},
   "source": [
    "## 초기하분포\n",
    "\n",
    "<blockquote> 비복원추출을 사용한, 확률 기법을 초기하 분포라고 한다. </blockquote> "
   ]
  },
  {
   "cell_type": "code",
   "execution_count": 3,
   "metadata": {},
   "outputs": [
    {
     "name": "stdout",
     "output_type": "stream",
     "text": [
      "전환 확률 : 30.0 %\n"
     ]
    }
   ],
   "source": [
    "# 오프라인 상점 방문 고객 10명 중, 구매자 6명 비 구매자 4명\n",
    "# 오프라인 상점에 방문한 임의 고객 3명을 선정 했을 때, 이 중에서 전환 고객 2명일 확률은?\n",
    "# 전환 확률을 분석할 때, 기존의 임의 선정한 3명의 고객 모수를 다시 활용 하지 않음\n",
    "\n",
    "p = ( cf( non_purchase, conversion_clients ) * cf( all_clients-non_purchase, choice_clients-conversion_clients ) ) / cf( all_clients, choice_clients )\n",
    "\n",
    "print( \"전환 확률 :\", round( p*100, 2 ), \"%\" )"
   ]
  }
 ],
 "metadata": {
  "kernelspec": {
   "display_name": "Python 3",
   "language": "python",
   "name": "python3"
  },
  "language_info": {
   "codemirror_mode": {
    "name": "ipython",
    "version": 3
   },
   "file_extension": ".py",
   "mimetype": "text/x-python",
   "name": "python",
   "nbconvert_exporter": "python",
   "pygments_lexer": "ipython3",
   "version": "3.8.3"
  }
 },
 "nbformat": 4,
 "nbformat_minor": 4
}
